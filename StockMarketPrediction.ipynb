{
  "nbformat": 4,
  "nbformat_minor": 0,
  "metadata": {
    "colab": {
      "provenance": [],
      "authorship_tag": "ABX9TyNqqZTSkUDjjeXD0at2iKFQ",
      "include_colab_link": true
    },
    "kernelspec": {
      "name": "python3",
      "display_name": "Python 3"
    },
    "language_info": {
      "name": "python"
    }
  },
  "cells": [
    {
      "cell_type": "markdown",
      "metadata": {
        "id": "view-in-github",
        "colab_type": "text"
      },
      "source": [
        "<a href=\"https://colab.research.google.com/github/bigdaawg/DL_project_D4_35/blob/main/StockMarketPrediction.ipynb\" target=\"_parent\"><img src=\"https://colab.research.google.com/assets/colab-badge.svg\" alt=\"Open In Colab\"/></a>"
      ]
    },
    {
      "cell_type": "code",
      "execution_count": null,
      "metadata": {
        "id": "4E12VHjmm6R6"
      },
      "outputs": [],
      "source": [
        "import pandas_datareader as pdr\n",
        "key='185a4b03f5c1f061f3072589d6d03aeb5f838fe0'"
      ]
    },
    {
      "cell_type": "code",
      "source": [
        "df = pdr.get_data_tiingo('AAPL', api_key=key)"
      ],
      "metadata": {
        "id": "Gia9_9_Fn6Sp"
      },
      "execution_count": null,
      "outputs": []
    },
    {
      "cell_type": "code",
      "source": [
        "df.to_csv('AAPL.csv')"
      ],
      "metadata": {
        "id": "Dc0vvW0DyXQd"
      },
      "execution_count": null,
      "outputs": []
    },
    {
      "cell_type": "code",
      "source": [
        "import pandas as pd"
      ],
      "metadata": {
        "id": "bPRHz3_xyX_Q"
      },
      "execution_count": null,
      "outputs": []
    },
    {
      "cell_type": "code",
      "source": [
        "df = pd.read_csv('AAPL.csv')"
      ],
      "metadata": {
        "id": "uls0wMzRpSAL"
      },
      "execution_count": null,
      "outputs": []
    },
    {
      "cell_type": "code",
      "source": [
        "df.head()"
      ],
      "metadata": {
        "id": "Cz9Qn5DqppnN"
      },
      "execution_count": null,
      "outputs": []
    },
    {
      "cell_type": "code",
      "source": [
        "df1 = df.reset_index()['close']"
      ],
      "metadata": {
        "id": "h65mIuwWruZN"
      },
      "execution_count": null,
      "outputs": []
    },
    {
      "cell_type": "code",
      "source": [
        "df1.shape"
      ],
      "metadata": {
        "id": "Dq4ppRqpHk3u"
      },
      "execution_count": null,
      "outputs": []
    },
    {
      "cell_type": "code",
      "source": [
        "df1"
      ],
      "metadata": {
        "id": "UkctrrJfHqI4"
      },
      "execution_count": null,
      "outputs": []
    },
    {
      "cell_type": "code",
      "source": [
        "import matplotlib.pyplot as plt\n",
        "plt.plot(df1)"
      ],
      "metadata": {
        "id": "Tz5sY-8lWv5K"
      },
      "execution_count": null,
      "outputs": []
    },
    {
      "cell_type": "code",
      "source": [
        "import numpy as np"
      ],
      "metadata": {
        "id": "ob1ZuTInW9My"
      },
      "execution_count": null,
      "outputs": []
    },
    {
      "cell_type": "code",
      "source": [
        "from sklearn.preprocessing import MinMaxScaler\n",
        "scaler = MinMaxScaler(feature_range=(0,1))\n",
        "df1 = scaler.fit_transform(np.array(df1).reshape(-1,1))\n"
      ],
      "metadata": {
        "id": "PybFlIOLatt3"
      },
      "execution_count": null,
      "outputs": []
    },
    {
      "cell_type": "code",
      "source": [
        "df1.shape"
      ],
      "metadata": {
        "id": "4Whmw_qne_3m"
      },
      "execution_count": null,
      "outputs": []
    },
    {
      "cell_type": "code",
      "source": [
        "df1"
      ],
      "metadata": {
        "id": "ZHx_fLzZfBOX"
      },
      "execution_count": null,
      "outputs": []
    },
    {
      "cell_type": "code",
      "source": [
        "#splitting data set into train and test\n",
        "training_size = int(len(df1)*0.65)\n",
        "test_size = len(df1) - training_size\n",
        "\n",
        "train_data, test_data = df1[0:training_size,:],df1[training_size:len(df1),:1]"
      ],
      "metadata": {
        "id": "iZwCVG8OfcLU"
      },
      "execution_count": null,
      "outputs": []
    },
    {
      "cell_type": "code",
      "source": [
        "train_data"
      ],
      "metadata": {
        "id": "clkzxWsdzac_"
      },
      "execution_count": null,
      "outputs": []
    },
    {
      "cell_type": "code",
      "source": [
        "training_size,test_size"
      ],
      "metadata": {
        "id": "LvoHlax7zFWw"
      },
      "execution_count": null,
      "outputs": []
    },
    {
      "cell_type": "code",
      "source": [
        "import numpy\n",
        "\n",
        "#dense array -> spare matrix\n",
        "\n",
        "def create_dataset(dataset, time_step=1):\n",
        "  dataX, dataY = [], []\n",
        "  for i in range(len(dataset)-time_step-1):\n",
        "    a = dataset[i:(i+time_step), 0]\n",
        "    dataX.append(a)\n",
        "    dataY.append(dataset[i + time_step, 0])\n",
        "  return numpy.array(dataX), numpy.array(dataY)"
      ],
      "metadata": {
        "id": "ghGcsSC_s3Wc"
      },
      "execution_count": null,
      "outputs": []
    },
    {
      "cell_type": "code",
      "source": [
        "time_step = 100\n",
        "X_train, y_train = create_dataset(train_data,time_step)\n",
        "X_test, ytest = create_dataset(test_data, time_step)\n"
      ],
      "metadata": {
        "id": "t6wXPbkGOhRd"
      },
      "execution_count": null,
      "outputs": []
    },
    {
      "cell_type": "code",
      "source": [
        "print(X_train.shape)\n",
        "print(y_train.shape)"
      ],
      "metadata": {
        "id": "Dkto8DepPnMQ"
      },
      "execution_count": null,
      "outputs": []
    },
    {
      "cell_type": "code",
      "source": [
        "print(X_test.shape)\n",
        "print(ytest.shape)"
      ],
      "metadata": {
        "id": "404kjM9tRPH0"
      },
      "execution_count": null,
      "outputs": []
    },
    {
      "cell_type": "code",
      "source": [
        "X_train = X_train.reshape(X_train.shape[0],X_train.shape[1], 1)\n",
        "X_test = X_test.reshape(X_test.shape[0],X_test.shape[1] , 1)\n"
      ],
      "metadata": {
        "id": "SknNgGqCRdsC"
      },
      "execution_count": null,
      "outputs": []
    },
    {
      "cell_type": "code",
      "source": [
        "from tensorflow.keras.models import Sequential\n",
        "from tensorflow.keras.layers import Dense\n",
        "from tensorflow.keras.layers import LSTM\n"
      ],
      "metadata": {
        "id": "PXssL6JnYRkz"
      },
      "execution_count": null,
      "outputs": []
    },
    {
      "cell_type": "code",
      "source": [
        "model = Sequential()\n",
        "model.add(LSTM(50,return_sequences=True,input_shape=(100,1)))\n",
        "model.add(LSTM(50,return_sequences=True))\n",
        "model.add(LSTM(50))\n",
        "model.add(Dense(1))\n",
        "model.compile(loss='mean_squared_error',optimizer='adam')"
      ],
      "metadata": {
        "id": "my4y0KsHY_B0"
      },
      "execution_count": null,
      "outputs": []
    },
    {
      "cell_type": "code",
      "source": [
        "model.summary()"
      ],
      "metadata": {
        "id": "-Nti7Ja0bjPh"
      },
      "execution_count": null,
      "outputs": []
    },
    {
      "cell_type": "code",
      "source": [
        "model.fit(X_train,y_train,validation_data=(X_test,ytest),epochs=100,batch_size=64,verbose=1)"
      ],
      "metadata": {
        "colab": {
          "base_uri": "https://localhost:8080/"
        },
        "id": "o2gsv3EObx2l",
        "outputId": "45ecd2fb-14f1-4821-cbf6-a0d8c903ea17"
      },
      "execution_count": 66,
      "outputs": [
        {
          "metadata": {
            "tags": null
          },
          "name": "stdout",
          "output_type": "stream",
          "text": [
            "Epoch 1/100\n",
            "12/12 [==============================] - 11s 396ms/step - loss: 0.0439 - val_loss: 8.2633e-04\n",
            "Epoch 2/100\n",
            "12/12 [==============================] - 3s 226ms/step - loss: 0.0144 - val_loss: 0.0016\n",
            "Epoch 3/100\n",
            "12/12 [==============================] - 3s 226ms/step - loss: 0.0098 - val_loss: 9.9066e-04\n",
            "Epoch 4/100\n",
            "12/12 [==============================] - 3s 241ms/step - loss: 0.0084 - val_loss: 5.1308e-04\n",
            "Epoch 5/100\n",
            "12/12 [==============================] - 3s 276ms/step - loss: 0.0083 - val_loss: 0.0014\n",
            "Epoch 6/100\n",
            "12/12 [==============================] - 3s 232ms/step - loss: 0.0084 - val_loss: 0.0021\n",
            "Epoch 7/100\n",
            "12/12 [==============================] - 3s 231ms/step - loss: 0.0068 - val_loss: 2.5812e-04\n",
            "Epoch 8/100\n",
            "12/12 [==============================] - 3s 230ms/step - loss: 0.0057 - val_loss: 3.9144e-04\n",
            "Epoch 9/100\n",
            "12/12 [==============================] - 4s 326ms/step - loss: 0.0052 - val_loss: 5.7263e-04\n",
            "Epoch 10/100\n",
            "12/12 [==============================] - 3s 231ms/step - loss: 0.0049 - val_loss: 2.5949e-04\n",
            "Epoch 11/100\n",
            "12/12 [==============================] - 2s 207ms/step - loss: 0.0048 - val_loss: 5.0981e-04\n",
            "Epoch 12/100\n",
            "12/12 [==============================] - 3s 234ms/step - loss: 0.0043 - val_loss: 8.7029e-04\n",
            "Epoch 13/100\n",
            "12/12 [==============================] - 3s 285ms/step - loss: 0.0038 - val_loss: 4.3592e-04\n",
            "Epoch 14/100\n",
            "12/12 [==============================] - 3s 206ms/step - loss: 0.0047 - val_loss: 4.3255e-04\n",
            "Epoch 15/100\n",
            "12/12 [==============================] - 3s 233ms/step - loss: 0.0035 - val_loss: 2.2370e-04\n",
            "Epoch 16/100\n",
            "12/12 [==============================] - 3s 234ms/step - loss: 0.0043 - val_loss: 3.5311e-04\n",
            "Epoch 17/100\n",
            "12/12 [==============================] - 2s 207ms/step - loss: 0.0041 - val_loss: 5.2189e-04\n",
            "Epoch 18/100\n",
            "12/12 [==============================] - 4s 316ms/step - loss: 0.0035 - val_loss: 3.4560e-04\n",
            "Epoch 19/100\n",
            "12/12 [==============================] - 2s 208ms/step - loss: 0.0029 - val_loss: 2.1420e-04\n",
            "Epoch 20/100\n",
            "12/12 [==============================] - 3s 231ms/step - loss: 0.0028 - val_loss: 2.2384e-04\n",
            "Epoch 21/100\n",
            "12/12 [==============================] - 3s 229ms/step - loss: 0.0025 - val_loss: 2.7160e-04\n",
            "Epoch 22/100\n",
            "12/12 [==============================] - 3s 293ms/step - loss: 0.0023 - val_loss: 1.9183e-04\n",
            "Epoch 23/100\n",
            "12/12 [==============================] - 3s 230ms/step - loss: 0.0023 - val_loss: 4.9626e-04\n",
            "Epoch 24/100\n",
            "12/12 [==============================] - 3s 228ms/step - loss: 0.0033 - val_loss: 1.7790e-04\n",
            "Epoch 25/100\n",
            "12/12 [==============================] - 2s 204ms/step - loss: 0.0029 - val_loss: 2.0120e-04\n",
            "Epoch 26/100\n",
            "12/12 [==============================] - 2s 211ms/step - loss: 0.0023 - val_loss: 1.9775e-04\n",
            "Epoch 27/100\n",
            "12/12 [==============================] - 4s 317ms/step - loss: 0.0023 - val_loss: 2.0715e-04\n",
            "Epoch 28/100\n",
            "12/12 [==============================] - 2s 199ms/step - loss: 0.0023 - val_loss: 1.9117e-04\n",
            "Epoch 29/100\n",
            "12/12 [==============================] - 2s 203ms/step - loss: 0.0021 - val_loss: 2.0390e-04\n",
            "Epoch 30/100\n",
            "12/12 [==============================] - 2s 204ms/step - loss: 0.0020 - val_loss: 2.5145e-04\n",
            "Epoch 31/100\n",
            "12/12 [==============================] - 3s 240ms/step - loss: 0.0023 - val_loss: 2.3302e-04\n",
            "Epoch 32/100\n",
            "12/12 [==============================] - 3s 281ms/step - loss: 0.0020 - val_loss: 3.6704e-04\n",
            "Epoch 33/100\n",
            "12/12 [==============================] - 2s 200ms/step - loss: 0.0018 - val_loss: 1.7698e-04\n",
            "Epoch 34/100\n",
            "12/12 [==============================] - 3s 228ms/step - loss: 0.0018 - val_loss: 1.9223e-04\n",
            "Epoch 35/100\n",
            "12/12 [==============================] - 2s 205ms/step - loss: 0.0021 - val_loss: 2.3805e-04\n",
            "Epoch 36/100\n",
            "12/12 [==============================] - 4s 316ms/step - loss: 0.0017 - val_loss: 1.9472e-04\n",
            "Epoch 37/100\n",
            "12/12 [==============================] - 3s 230ms/step - loss: 0.0018 - val_loss: 1.8083e-04\n",
            "Epoch 38/100\n",
            "12/12 [==============================] - 2s 205ms/step - loss: 0.0023 - val_loss: 1.8126e-04\n",
            "Epoch 39/100\n",
            "12/12 [==============================] - 2s 202ms/step - loss: 0.0019 - val_loss: 3.2981e-04\n",
            "Epoch 40/100\n",
            "12/12 [==============================] - 3s 232ms/step - loss: 0.0017 - val_loss: 1.7744e-04\n",
            "Epoch 41/100\n",
            "12/12 [==============================] - 3s 266ms/step - loss: 0.0016 - val_loss: 2.5656e-04\n",
            "Epoch 42/100\n",
            "12/12 [==============================] - 2s 204ms/step - loss: 0.0020 - val_loss: 2.7465e-04\n",
            "Epoch 43/100\n",
            "12/12 [==============================] - 2s 210ms/step - loss: 0.0019 - val_loss: 1.8182e-04\n",
            "Epoch 44/100\n",
            "12/12 [==============================] - 3s 235ms/step - loss: 0.0024 - val_loss: 2.9195e-04\n",
            "Epoch 45/100\n",
            "12/12 [==============================] - 3s 296ms/step - loss: 0.0021 - val_loss: 1.8315e-04\n",
            "Epoch 46/100\n",
            "12/12 [==============================] - 3s 233ms/step - loss: 0.0016 - val_loss: 3.0678e-04\n",
            "Epoch 47/100\n",
            "12/12 [==============================] - 2s 206ms/step - loss: 0.0020 - val_loss: 6.1079e-04\n",
            "Epoch 48/100\n",
            "12/12 [==============================] - 3s 231ms/step - loss: 0.0045 - val_loss: 2.2154e-04\n",
            "Epoch 49/100\n",
            "12/12 [==============================] - 3s 234ms/step - loss: 0.0027 - val_loss: 2.3160e-04\n",
            "Epoch 50/100\n",
            "12/12 [==============================] - 4s 297ms/step - loss: 0.0017 - val_loss: 2.0063e-04\n",
            "Epoch 51/100\n",
            "12/12 [==============================] - 2s 203ms/step - loss: 0.0022 - val_loss: 1.6928e-04\n",
            "Epoch 52/100\n",
            "12/12 [==============================] - 3s 234ms/step - loss: 0.0019 - val_loss: 3.3637e-04\n",
            "Epoch 53/100\n",
            "12/12 [==============================] - 3s 232ms/step - loss: 0.0017 - val_loss: 1.8549e-04\n",
            "Epoch 54/100\n",
            "12/12 [==============================] - 4s 333ms/step - loss: 0.0018 - val_loss: 1.6899e-04\n",
            "Epoch 55/100\n",
            "12/12 [==============================] - 2s 207ms/step - loss: 0.0015 - val_loss: 1.9687e-04\n",
            "Epoch 56/100\n",
            "12/12 [==============================] - 3s 233ms/step - loss: 0.0018 - val_loss: 3.0662e-04\n",
            "Epoch 57/100\n",
            "12/12 [==============================] - 2s 209ms/step - loss: 0.0032 - val_loss: 2.1630e-04\n",
            "Epoch 58/100\n",
            "12/12 [==============================] - 3s 247ms/step - loss: 0.0038 - val_loss: 0.0011\n",
            "Epoch 59/100\n",
            "12/12 [==============================] - 3s 282ms/step - loss: 0.0022 - val_loss: 2.3653e-04\n",
            "Epoch 60/100\n",
            "12/12 [==============================] - 2s 206ms/step - loss: 0.0016 - val_loss: 1.7008e-04\n",
            "Epoch 61/100\n",
            "12/12 [==============================] - 2s 203ms/step - loss: 0.0015 - val_loss: 1.9504e-04\n",
            "Epoch 62/100\n",
            "12/12 [==============================] - 3s 229ms/step - loss: 0.0016 - val_loss: 1.7458e-04\n",
            "Epoch 63/100\n",
            "12/12 [==============================] - 4s 326ms/step - loss: 0.0014 - val_loss: 1.7954e-04\n",
            "Epoch 64/100\n",
            "12/12 [==============================] - 3s 231ms/step - loss: 0.0014 - val_loss: 2.3776e-04\n",
            "Epoch 65/100\n",
            "12/12 [==============================] - 2s 204ms/step - loss: 0.0015 - val_loss: 2.5815e-04\n",
            "Epoch 66/100\n",
            "12/12 [==============================] - 2s 202ms/step - loss: 0.0014 - val_loss: 2.1934e-04\n",
            "Epoch 67/100\n",
            "12/12 [==============================] - 3s 237ms/step - loss: 0.0013 - val_loss: 2.0827e-04\n",
            "Epoch 68/100\n",
            "12/12 [==============================] - 3s 259ms/step - loss: 0.0015 - val_loss: 2.0348e-04\n",
            "Epoch 69/100\n",
            "12/12 [==============================] - 3s 231ms/step - loss: 0.0014 - val_loss: 1.9969e-04\n",
            "Epoch 70/100\n",
            "12/12 [==============================] - 3s 232ms/step - loss: 0.0014 - val_loss: 2.1467e-04\n",
            "Epoch 71/100\n",
            "12/12 [==============================] - 3s 231ms/step - loss: 0.0017 - val_loss: 3.5317e-04\n",
            "Epoch 72/100\n",
            "12/12 [==============================] - 4s 325ms/step - loss: 0.0018 - val_loss: 1.8817e-04\n",
            "Epoch 73/100\n",
            "12/12 [==============================] - 2s 203ms/step - loss: 0.0022 - val_loss: 2.0934e-04\n",
            "Epoch 74/100\n",
            "12/12 [==============================] - 2s 204ms/step - loss: 0.0015 - val_loss: 1.7517e-04\n",
            "Epoch 75/100\n",
            "12/12 [==============================] - 2s 203ms/step - loss: 0.0014 - val_loss: 1.9661e-04\n",
            "Epoch 76/100\n",
            "12/12 [==============================] - 3s 216ms/step - loss: 0.0014 - val_loss: 1.7443e-04\n",
            "Epoch 77/100\n",
            "12/12 [==============================] - 3s 279ms/step - loss: 0.0012 - val_loss: 1.7030e-04\n",
            "Epoch 78/100\n",
            "12/12 [==============================] - 2s 205ms/step - loss: 0.0012 - val_loss: 1.8175e-04\n",
            "Epoch 79/100\n",
            "12/12 [==============================] - 2s 204ms/step - loss: 0.0012 - val_loss: 1.7059e-04\n",
            "Epoch 80/100\n",
            "12/12 [==============================] - 3s 232ms/step - loss: 0.0027 - val_loss: 2.5940e-04\n",
            "Epoch 81/100\n",
            "12/12 [==============================] - 3s 269ms/step - loss: 0.0027 - val_loss: 3.7277e-04\n",
            "Epoch 82/100\n",
            "12/12 [==============================] - 3s 254ms/step - loss: 0.0017 - val_loss: 3.7541e-04\n",
            "Epoch 83/100\n",
            "12/12 [==============================] - 3s 229ms/step - loss: 0.0013 - val_loss: 2.2823e-04\n",
            "Epoch 84/100\n",
            "12/12 [==============================] - 3s 230ms/step - loss: 0.0014 - val_loss: 1.8388e-04\n",
            "Epoch 85/100\n",
            "12/12 [==============================] - 3s 231ms/step - loss: 0.0015 - val_loss: 1.8774e-04\n",
            "Epoch 86/100\n",
            "12/12 [==============================] - 4s 305ms/step - loss: 0.0012 - val_loss: 1.7383e-04\n",
            "Epoch 87/100\n",
            "12/12 [==============================] - 3s 232ms/step - loss: 0.0012 - val_loss: 1.7187e-04\n",
            "Epoch 88/100\n",
            "12/12 [==============================] - 3s 236ms/step - loss: 0.0016 - val_loss: 1.7968e-04\n",
            "Epoch 89/100\n",
            "12/12 [==============================] - 6s 532ms/step - loss: 0.0015 - val_loss: 1.9307e-04\n",
            "Epoch 90/100\n",
            "12/12 [==============================] - 5s 435ms/step - loss: 0.0014 - val_loss: 1.6787e-04\n",
            "Epoch 91/100\n",
            "12/12 [==============================] - 7s 624ms/step - loss: 0.0011 - val_loss: 1.9495e-04\n",
            "Epoch 92/100\n",
            "12/12 [==============================] - 3s 205ms/step - loss: 0.0012 - val_loss: 1.6553e-04\n",
            "Epoch 93/100\n",
            "12/12 [==============================] - 2s 206ms/step - loss: 0.0013 - val_loss: 2.2032e-04\n",
            "Epoch 94/100\n",
            "12/12 [==============================] - 3s 228ms/step - loss: 0.0015 - val_loss: 1.9367e-04\n",
            "Epoch 95/100\n",
            "12/12 [==============================] - 3s 232ms/step - loss: 0.0013 - val_loss: 1.7511e-04\n",
            "Epoch 96/100\n",
            "12/12 [==============================] - 3s 289ms/step - loss: 0.0015 - val_loss: 1.6093e-04\n",
            "Epoch 97/100\n",
            "12/12 [==============================] - 2s 205ms/step - loss: 0.0017 - val_loss: 3.3903e-04\n",
            "Epoch 98/100\n",
            "12/12 [==============================] - 2s 203ms/step - loss: 0.0030 - val_loss: 1.9886e-04\n",
            "Epoch 99/100\n",
            "12/12 [==============================] - 2s 202ms/step - loss: 0.0017 - val_loss: 1.9462e-04\n",
            "Epoch 100/100\n",
            "12/12 [==============================] - 3s 244ms/step - loss: 0.0014 - val_loss: 1.6135e-04\n"
          ]
        },
        {
          "output_type": "execute_result",
          "data": {
            "text/plain": [
              "<keras.src.callbacks.History at 0x7cc347542050>"
            ]
          },
          "metadata": {},
          "execution_count": 66
        }
      ]
    },
    {
      "cell_type": "code",
      "source": [
        "import tensorflow as tf"
      ],
      "metadata": {
        "id": "EkbGm-lgeqPn"
      },
      "execution_count": 67,
      "outputs": []
    },
    {
      "cell_type": "code",
      "source": [
        "tf.__version__"
      ],
      "metadata": {
        "id": "uQ_4SExOgOxO",
        "colab": {
          "base_uri": "https://localhost:8080/",
          "height": 36
        },
        "outputId": "a0af0ef2-c633-48eb-b6ee-8371a7138de7"
      },
      "execution_count": 68,
      "outputs": [
        {
          "output_type": "execute_result",
          "data": {
            "text/plain": [
              "'2.15.0'"
            ],
            "application/vnd.google.colaboratory.intrinsic+json": {
              "type": "string"
            }
          },
          "metadata": {},
          "execution_count": 68
        }
      ]
    },
    {
      "cell_type": "code",
      "source": [
        "train_predict=model.predict(X_train)\n",
        "test_predict=model.predict(X_test)"
      ],
      "metadata": {
        "id": "PbjVjbbLgXpH",
        "colab": {
          "base_uri": "https://localhost:8080/"
        },
        "outputId": "6b776ad2-657a-41b0-a4af-355a7287c568"
      },
      "execution_count": 69,
      "outputs": [
        {
          "output_type": "stream",
          "name": "stdout",
          "text": [
            "23/23 [==============================] - 2s 41ms/step\n",
            "11/11 [==============================] - 0s 42ms/step\n"
          ]
        }
      ]
    },
    {
      "cell_type": "code",
      "source": [
        "train_predict=scaler.inverse_transform(train_predict)\n",
        "test_predict=scaler.inverse_transform(test_predict)"
      ],
      "metadata": {
        "id": "VMuSBCESkume"
      },
      "execution_count": 70,
      "outputs": []
    },
    {
      "cell_type": "code",
      "source": [
        "import math\n",
        "from sklearn.metrics import mean_squared_error\n",
        "math.sqrt(mean_squared_error(y_train,train_predict))"
      ],
      "metadata": {
        "id": "xXuv86XokzAc",
        "colab": {
          "base_uri": "https://localhost:8080/"
        },
        "outputId": "1f2bfc5b-9486-4c4b-e710-ccbe4caa9331"
      },
      "execution_count": 71,
      "outputs": [
        {
          "output_type": "execute_result",
          "data": {
            "text/plain": [
              "217.4919289862174"
            ]
          },
          "metadata": {},
          "execution_count": 71
        }
      ]
    },
    {
      "cell_type": "code",
      "source": [
        "math.sqrt(mean_squared_error(ytest,test_predict))"
      ],
      "metadata": {
        "id": "Db3lcCSXk4LQ",
        "colab": {
          "base_uri": "https://localhost:8080/"
        },
        "outputId": "3717049c-f926-437a-aafe-8c5117a917a4"
      },
      "execution_count": 72,
      "outputs": [
        {
          "output_type": "execute_result",
          "data": {
            "text/plain": [
              "171.7445136312553"
            ]
          },
          "metadata": {},
          "execution_count": 72
        }
      ]
    },
    {
      "cell_type": "code",
      "source": [
        "### Plotting\n",
        "# shift train predictions for plotting\n",
        "look_back=100\n",
        "trainPredictPlot = numpy.empty_like(df1)\n",
        "trainPredictPlot[:, :] = np.nan\n",
        "trainPredictPlot[look_back:len(train_predict)+look_back, :] = train_predict\n",
        "# shift test predictions for plotting\n",
        "testPredictPlot = numpy.empty_like(df1)\n",
        "testPredictPlot[:, :] = numpy.nan\n",
        "testPredictPlot[len(train_predict)+(look_back*2)+1:len(df1)-1, :] = test_predict\n",
        "# plot baseline and predictions\n",
        "plt.plot(scaler.inverse_transform(df1))\n",
        "plt.plot(trainPredictPlot)\n",
        "plt.plot(testPredictPlot)\n",
        "plt.show()"
      ],
      "metadata": {
        "id": "blob2D67k7Ju",
        "colab": {
          "base_uri": "https://localhost:8080/",
          "height": 430
        },
        "outputId": "4a17b2a8-f29a-456e-c9a9-92bdf5dbb4ea"
      },
      "execution_count": 73,
      "outputs": [
        {
          "output_type": "display_data",
          "data": {
            "text/plain": [
              "<Figure size 640x480 with 1 Axes>"
            ],
            "image/png": "[encoded data removed]"
          },
          "metadata": {}
        }
      ]
    },
    {
      "cell_type": "code",
      "source": [
        "x_input=test_data[341:].reshape(1,-1)\n",
        "x_input.shape"
      ],
      "metadata": {
        "id": "YLap5ofNlH3W",
        "colab": {
          "base_uri": "https://localhost:8080/"
        },
        "outputId": "cb1fb5a8-ca47-4721-80a5-a0c85fccde6c"
      },
      "execution_count": 74,
      "outputs": [
        {
          "output_type": "execute_result",
          "data": {
            "text/plain": [
              "(1, 99)"
            ]
          },
          "metadata": {},
          "execution_count": 74
        }
      ]
    },
    {
      "cell_type": "code",
      "source": [
        "temp_input=list(x_input)\n",
        "temp_input=temp_input[0].tolist()"
      ],
      "metadata": {
        "id": "x80AhnLnlJco"
      },
      "execution_count": 75,
      "outputs": []
    },
    {
      "cell_type": "code",
      "source": [
        "temp_input"
      ],
      "metadata": {
        "id": "iXQbZsnQlMj9",
        "colab": {
          "base_uri": "https://localhost:8080/"
        },
        "outputId": "95fd3846-61f7-4293-937f-1c792e82b36f"
      },
      "execution_count": 76,
      "outputs": [
        {
          "data": {
            "text/plain": [
              "[0.17715716969317463,\n",
              " 0.17485284909204757,\n",
              " 0.1813149655604257,\n",
              " 0.18780212899185966,\n",
              " 0.19048215403882274,\n",
              " 0.1892798998121477,\n",
              " 0.19927363807138382,\n",
              " 0.19526612398246712,\n",
              " 0.20187852222917968,\n",
              " 0.20330619912335623,\n",
              " 0.2075641828428303,\n",
              " 0.2075140889167188,\n",
              " 0.21192235441452717,\n",
              " 0.20989355040701307,\n",
              " 0.211571696931747,\n",
              " 0.20821540388227922,\n",
              " 0.2077645585472761,\n",
              " 0.2092924232936756,\n",
              " 0.20671258609893545,\n",
              " 0.20816530995616772,\n",
              " 0.2113963681903569,\n",
              " 0.20686286787726987,\n",
              " 0.21685660613650587,\n",
              " 0.21410144020037564,\n",
              " 0.21898559799624295,\n",
              " 0.22259236067626798,\n",
              " 0.21625547902316838,\n",
              " 0.22008766437069505,\n",
              " 0.2282279273638071,\n",
              " 0.22860363180964305,\n",
              " 0.2272510958046336,\n",
              " 0.22304320601127103,\n",
              " 0.22567313713212267,\n",
              " 0.2203882279273638,\n",
              " 0.22001252348152783,\n",
              " 0.21730745147150904,\n",
              " 0.21592986850344392,\n",
              " 0.21618033813400123,\n",
              " 0.2172573575453976,\n",
              " 0.21462742642454596,\n",
              " 0.19737006887914832,\n",
              " 0.19388854101440195,\n",
              " 0.18802755165936125,\n",
              " 0.18619912335629302,\n",
              " 0.1971696931747025,\n",
              " 0.19611772072636185,\n",
              " 0.1987476518472135,\n",
              " 0.19724483406386972,\n",
              " 0.19807138384470874,\n",
              " 0.19233562930494674,\n",
              " 0.18995616781465247,\n",
              " 0.20485911083281144,\n",
              " 0.21219787100814025,\n",
              " 0.21803381340012518,\n",
              " 0.2212648716343143,\n",
              " 0.21956167814652466,\n",
              " 0.2187351283656856,\n",
              " 0.21435190983093294,\n",
              " 0.2126236693800876,\n",
              " 0.2033813400125234,\n",
              " 0.1942642454602379,\n",
              " 0.2004257983719474,\n",
              " 0.19789605510331865,\n",
              " 0.20247964934251717,\n",
              " 0.20653725735754536,\n",
              " 0.20681277395115838,\n",
              " 0.20408265497808387,\n",
              " 0.2054101440200375,\n",
              " 0.20115216030056354,\n",
              " 0.19586725109580455,\n",
              " 0.1936380713838447,\n",
              " 0.19291170945522856,\n",
              " 0.18902943018159046,\n",
              " 0.18715090795241074,\n",
              " 0.18905447714464613,\n",
              " 0.19418910457107075,\n",
              " 0.1895554164057608,\n",
              " 0.18614902943018152,\n",
              " 0.18983093299937376,\n",
              " 0.1868002504696305,\n",
              " 0.18512210394489664,\n",
              " 0.18239198497182213,\n",
              " 0.17097056981840947,\n",
              " 0.1584971822166562,\n",
              " 0.15599248591108322,\n",
              " 0.15569192235441448,\n",
              " 0.16002504696305564,\n",
              " 0.16508453350031305,\n",
              " 0.16628678772698802,\n",
              " 0.16102692548528486,\n",
              " 0.1657107075767063,\n",
              " 0.16475892298058858,\n",
              " 0.16751408891671882,\n",
              " 0.173425172197871,\n",
              " 0.17991233562930486,\n",
              " 0.1616280525986224,\n",
              " 0.16390732623669374,\n",
              " 0.16032561051972444,\n",
              " 0.15747025673137127]"
            ]
          },
          "execution_count": 76,
          "metadata": {},
          "output_type": "execute_result"
        }
      ]
    },
    {
      "cell_type": "code",
      "source": [
        "#prediction for next 10 days\n",
        "from numpy import array\n",
        "\n",
        "lst_output=[]\n",
        "n_steps=100\n",
        "i=0\n",
        "while(i<30):\n",
        "\n",
        "    if(len(temp_input)>100):\n",
        "        #print(temp_input)\n",
        "        x_input=np.array(temp_input[1:])\n",
        "        print(\"{} day input {}\".format(i,x_input))\n",
        "        x_input=x_input.reshape(1,-1)\n",
        "        x_input = x_input.reshape((1, n_steps, 1))\n",
        "        #print(x_input)\n",
        "        yhat = model.predict(x_input, verbose=0)\n",
        "        print(\"{} day output {}\".format(i,yhat))\n",
        "        temp_input.extend(yhat[0].tolist())\n",
        "        temp_input=temp_input[1:]\n",
        "        #print(temp_input)\n",
        "        lst_output.extend(yhat.tolist())\n",
        "        i=i+1\n",
        "    else:\n",
        "        x_input = x_input.reshape((1, n_steps,1))\n",
        "        yhat = model.predict(x_input, verbose=0)\n",
        "        print(yhat[0])\n",
        "        temp_input.extend(yhat[0].tolist())\n",
        "        print(len(temp_input))\n",
        "        lst_output.extend(yhat.tolist())\n",
        "        i=i+1\n",
        "\n",
        "\n",
        "print(lst_output)"
      ],
      "metadata": {
        "id": "cj2NgAewlOeM",
        "colab": {
          "base_uri": "https://localhost:8080/"
        },
        "outputId": "fa04385c-6cb4-4c0d-95b4-21591cb76944"
      },
      "execution_count": 78,
      "outputs": [
        {
          "output_type": "stream",
          "name": "stdout",
          "text": [
            "0 day input [0.17485285 0.18131497 0.18780213 0.19048215 0.1892799  0.19927364\n",
            " 0.19526612 0.20187852 0.2033062  0.20756418 0.20751409 0.21192235\n",
            " 0.20989355 0.2115717  0.2082154  0.20776456 0.20929242 0.20671259\n",
            " 0.20816531 0.21139637 0.20686287 0.21685661 0.21410144 0.2189856\n",
            " 0.22259236 0.21625548 0.22008766 0.22822793 0.22860363 0.2272511\n",
            " 0.22304321 0.22567314 0.22038823 0.22001252 0.21730745 0.21592987\n",
            " 0.21618034 0.21725736 0.21462743 0.19737007 0.19388854 0.18802755\n",
            " 0.18619912 0.19716969 0.19611772 0.19874765 0.19724483 0.19807138\n",
            " 0.19233563 0.18995617 0.20485911 0.21219787 0.21803381 0.22126487\n",
            " 0.21956168 0.21873513 0.21435191 0.21262367 0.20338134 0.19426425\n",
            " 0.2004258  0.19789606 0.20247965 0.20653726 0.20681277 0.20408265\n",
            " 0.20541014 0.20115216 0.19586725 0.19363807 0.19291171 0.18902943\n",
            " 0.18715091 0.18905448 0.1941891  0.18955542 0.18614903 0.18983093\n",
            " 0.18680025 0.1851221  0.18239198 0.17097057 0.15849718 0.15599249\n",
            " 0.15569192 0.16002505 0.16508453 0.16628679 0.16102693 0.16571071\n",
            " 0.16475892 0.16751409 0.17342517 0.17991234 0.16162805 0.16390733\n",
            " 0.16032561 0.15747026 0.16628601 0.16628601]\n",
            "0 day output [[0.16539957]]\n",
            "1 day input [0.18131497 0.18780213 0.19048215 0.1892799  0.19927364 0.19526612\n",
            " 0.20187852 0.2033062  0.20756418 0.20751409 0.21192235 0.20989355\n",
            " 0.2115717  0.2082154  0.20776456 0.20929242 0.20671259 0.20816531\n",
            " 0.21139637 0.20686287 0.21685661 0.21410144 0.2189856  0.22259236\n",
            " 0.21625548 0.22008766 0.22822793 0.22860363 0.2272511  0.22304321\n",
            " 0.22567314 0.22038823 0.22001252 0.21730745 0.21592987 0.21618034\n",
            " 0.21725736 0.21462743 0.19737007 0.19388854 0.18802755 0.18619912\n",
            " 0.19716969 0.19611772 0.19874765 0.19724483 0.19807138 0.19233563\n",
            " 0.18995617 0.20485911 0.21219787 0.21803381 0.22126487 0.21956168\n",
            " 0.21873513 0.21435191 0.21262367 0.20338134 0.19426425 0.2004258\n",
            " 0.19789606 0.20247965 0.20653726 0.20681277 0.20408265 0.20541014\n",
            " 0.20115216 0.19586725 0.19363807 0.19291171 0.18902943 0.18715091\n",
            " 0.18905448 0.1941891  0.18955542 0.18614903 0.18983093 0.18680025\n",
            " 0.1851221  0.18239198 0.17097057 0.15849718 0.15599249 0.15569192\n",
            " 0.16002505 0.16508453 0.16628679 0.16102693 0.16571071 0.16475892\n",
            " 0.16751409 0.17342517 0.17991234 0.16162805 0.16390733 0.16032561\n",
            " 0.15747026 0.16628601 0.16628601 0.16539957]\n",
            "1 day output [[0.1651775]]\n",
            "2 day input [0.18780213 0.19048215 0.1892799  0.19927364 0.19526612 0.20187852\n",
            " 0.2033062  0.20756418 0.20751409 0.21192235 0.20989355 0.2115717\n",
            " 0.2082154  0.20776456 0.20929242 0.20671259 0.20816531 0.21139637\n",
            " 0.20686287 0.21685661 0.21410144 0.2189856  0.22259236 0.21625548\n",
            " 0.22008766 0.22822793 0.22860363 0.2272511  0.22304321 0.22567314\n",
            " 0.22038823 0.22001252 0.21730745 0.21592987 0.21618034 0.21725736\n",
            " 0.21462743 0.19737007 0.19388854 0.18802755 0.18619912 0.19716969\n",
            " 0.19611772 0.19874765 0.19724483 0.19807138 0.19233563 0.18995617\n",
            " 0.20485911 0.21219787 0.21803381 0.22126487 0.21956168 0.21873513\n",
            " 0.21435191 0.21262367 0.20338134 0.19426425 0.2004258  0.19789606\n",
            " 0.20247965 0.20653726 0.20681277 0.20408265 0.20541014 0.20115216\n",
            " 0.19586725 0.19363807 0.19291171 0.18902943 0.18715091 0.18905448\n",
            " 0.1941891  0.18955542 0.18614903 0.18983093 0.18680025 0.1851221\n",
            " 0.18239198 0.17097057 0.15849718 0.15599249 0.15569192 0.16002505\n",
            " 0.16508453 0.16628679 0.16102693 0.16571071 0.16475892 0.16751409\n",
            " 0.17342517 0.17991234 0.16162805 0.16390733 0.16032561 0.15747026\n",
            " 0.16628601 0.16628601 0.16539957 0.16517749]\n",
            "2 day output [[0.16505642]]\n",
            "3 day input [0.19048215 0.1892799  0.19927364 0.19526612 0.20187852 0.2033062\n",
            " 0.20756418 0.20751409 0.21192235 0.20989355 0.2115717  0.2082154\n",
            " 0.20776456 0.20929242 0.20671259 0.20816531 0.21139637 0.20686287\n",
            " 0.21685661 0.21410144 0.2189856  0.22259236 0.21625548 0.22008766\n",
            " 0.22822793 0.22860363 0.2272511  0.22304321 0.22567314 0.22038823\n",
            " 0.22001252 0.21730745 0.21592987 0.21618034 0.21725736 0.21462743\n",
            " 0.19737007 0.19388854 0.18802755 0.18619912 0.19716969 0.19611772\n",
            " 0.19874765 0.19724483 0.19807138 0.19233563 0.18995617 0.20485911\n",
            " 0.21219787 0.21803381 0.22126487 0.21956168 0.21873513 0.21435191\n",
            " 0.21262367 0.20338134 0.19426425 0.2004258  0.19789606 0.20247965\n",
            " 0.20653726 0.20681277 0.20408265 0.20541014 0.20115216 0.19586725\n",
            " 0.19363807 0.19291171 0.18902943 0.18715091 0.18905448 0.1941891\n",
            " 0.18955542 0.18614903 0.18983093 0.18680025 0.1851221  0.18239198\n",
            " 0.17097057 0.15849718 0.15599249 0.15569192 0.16002505 0.16508453\n",
            " 0.16628679 0.16102693 0.16571071 0.16475892 0.16751409 0.17342517\n",
            " 0.17991234 0.16162805 0.16390733 0.16032561 0.15747026 0.16628601\n",
            " 0.16628601 0.16539957 0.16517749 0.16505642]\n",
            "3 day output [[0.16499557]]\n",
            "4 day input [0.1892799  0.19927364 0.19526612 0.20187852 0.2033062  0.20756418\n",
            " 0.20751409 0.21192235 0.20989355 0.2115717  0.2082154  0.20776456\n",
            " 0.20929242 0.20671259 0.20816531 0.21139637 0.20686287 0.21685661\n",
            " 0.21410144 0.2189856  0.22259236 0.21625548 0.22008766 0.22822793\n",
            " 0.22860363 0.2272511  0.22304321 0.22567314 0.22038823 0.22001252\n",
            " 0.21730745 0.21592987 0.21618034 0.21725736 0.21462743 0.19737007\n",
            " 0.19388854 0.18802755 0.18619912 0.19716969 0.19611772 0.19874765\n",
            " 0.19724483 0.19807138 0.19233563 0.18995617 0.20485911 0.21219787\n",
            " 0.21803381 0.22126487 0.21956168 0.21873513 0.21435191 0.21262367\n",
            " 0.20338134 0.19426425 0.2004258  0.19789606 0.20247965 0.20653726\n",
            " 0.20681277 0.20408265 0.20541014 0.20115216 0.19586725 0.19363807\n",
            " 0.19291171 0.18902943 0.18715091 0.18905448 0.1941891  0.18955542\n",
            " 0.18614903 0.18983093 0.18680025 0.1851221  0.18239198 0.17097057\n",
            " 0.15849718 0.15599249 0.15569192 0.16002505 0.16508453 0.16628679\n",
            " 0.16102693 0.16571071 0.16475892 0.16751409 0.17342517 0.17991234\n",
            " 0.16162805 0.16390733 0.16032561 0.15747026 0.16628601 0.16628601\n",
            " 0.16539957 0.16517749 0.16505642 0.16499557]\n",
            "4 day output [[0.16496533]]\n",
            "5 day input [0.19927364 0.19526612 0.20187852 0.2033062  0.20756418 0.20751409\n",
            " 0.21192235 0.20989355 0.2115717  0.2082154  0.20776456 0.20929242\n",
            " 0.20671259 0.20816531 0.21139637 0.20686287 0.21685661 0.21410144\n",
            " 0.2189856  0.22259236 0.21625548 0.22008766 0.22822793 0.22860363\n",
            " 0.2272511  0.22304321 0.22567314 0.22038823 0.22001252 0.21730745\n",
            " 0.21592987 0.21618034 0.21725736 0.21462743 0.19737007 0.19388854\n",
            " 0.18802755 0.18619912 0.19716969 0.19611772 0.19874765 0.19724483\n",
            " 0.19807138 0.19233563 0.18995617 0.20485911 0.21219787 0.21803381\n",
            " 0.22126487 0.21956168 0.21873513 0.21435191 0.21262367 0.20338134\n",
            " 0.19426425 0.2004258  0.19789606 0.20247965 0.20653726 0.20681277\n",
            " 0.20408265 0.20541014 0.20115216 0.19586725 0.19363807 0.19291171\n",
            " 0.18902943 0.18715091 0.18905448 0.1941891  0.18955542 0.18614903\n",
            " 0.18983093 0.18680025 0.1851221  0.18239198 0.17097057 0.15849718\n",
            " 0.15599249 0.15569192 0.16002505 0.16508453 0.16628679 0.16102693\n",
            " 0.16571071 0.16475892 0.16751409 0.17342517 0.17991234 0.16162805\n",
            " 0.16390733 0.16032561 0.15747026 0.16628601 0.16628601 0.16539957\n",
            " 0.16517749 0.16505642 0.16499557 0.16496533]\n",
            "5 day output [[0.16494776]]\n",
            "6 day input [0.19526612 0.20187852 0.2033062  0.20756418 0.20751409 0.21192235\n",
            " 0.20989355 0.2115717  0.2082154  0.20776456 0.20929242 0.20671259\n",
            " 0.20816531 0.21139637 0.20686287 0.21685661 0.21410144 0.2189856\n",
            " 0.22259236 0.21625548 0.22008766 0.22822793 0.22860363 0.2272511\n",
            " 0.22304321 0.22567314 0.22038823 0.22001252 0.21730745 0.21592987\n",
            " 0.21618034 0.21725736 0.21462743 0.19737007 0.19388854 0.18802755\n",
            " 0.18619912 0.19716969 0.19611772 0.19874765 0.19724483 0.19807138\n",
            " 0.19233563 0.18995617 0.20485911 0.21219787 0.21803381 0.22126487\n",
            " 0.21956168 0.21873513 0.21435191 0.21262367 0.20338134 0.19426425\n",
            " 0.2004258  0.19789606 0.20247965 0.20653726 0.20681277 0.20408265\n",
            " 0.20541014 0.20115216 0.19586725 0.19363807 0.19291171 0.18902943\n",
            " 0.18715091 0.18905448 0.1941891  0.18955542 0.18614903 0.18983093\n",
            " 0.18680025 0.1851221  0.18239198 0.17097057 0.15849718 0.15599249\n",
            " 0.15569192 0.16002505 0.16508453 0.16628679 0.16102693 0.16571071\n",
            " 0.16475892 0.16751409 0.17342517 0.17991234 0.16162805 0.16390733\n",
            " 0.16032561 0.15747026 0.16628601 0.16628601 0.16539957 0.16517749\n",
            " 0.16505642 0.16499557 0.16496533 0.16494776]\n",
            "6 day output [[0.16493307]]\n",
            "7 day input [0.20187852 0.2033062  0.20756418 0.20751409 0.21192235 0.20989355\n",
            " 0.2115717  0.2082154  0.20776456 0.20929242 0.20671259 0.20816531\n",
            " 0.21139637 0.20686287 0.21685661 0.21410144 0.2189856  0.22259236\n",
            " 0.21625548 0.22008766 0.22822793 0.22860363 0.2272511  0.22304321\n",
            " 0.22567314 0.22038823 0.22001252 0.21730745 0.21592987 0.21618034\n",
            " 0.21725736 0.21462743 0.19737007 0.19388854 0.18802755 0.18619912\n",
            " 0.19716969 0.19611772 0.19874765 0.19724483 0.19807138 0.19233563\n",
            " 0.18995617 0.20485911 0.21219787 0.21803381 0.22126487 0.21956168\n",
            " 0.21873513 0.21435191 0.21262367 0.20338134 0.19426425 0.2004258\n",
            " 0.19789606 0.20247965 0.20653726 0.20681277 0.20408265 0.20541014\n",
            " 0.20115216 0.19586725 0.19363807 0.19291171 0.18902943 0.18715091\n",
            " 0.18905448 0.1941891  0.18955542 0.18614903 0.18983093 0.18680025\n",
            " 0.1851221  0.18239198 0.17097057 0.15849718 0.15599249 0.15569192\n",
            " 0.16002505 0.16508453 0.16628679 0.16102693 0.16571071 0.16475892\n",
            " 0.16751409 0.17342517 0.17991234 0.16162805 0.16390733 0.16032561\n",
            " 0.15747026 0.16628601 0.16628601 0.16539957 0.16517749 0.16505642\n",
            " 0.16499557 0.16496533 0.16494776 0.16493307]\n",
            "7 day output [[0.16491699]]\n",
            "8 day input [0.2033062  0.20756418 0.20751409 0.21192235 0.20989355 0.2115717\n",
            " 0.2082154  0.20776456 0.20929242 0.20671259 0.20816531 0.21139637\n",
            " 0.20686287 0.21685661 0.21410144 0.2189856  0.22259236 0.21625548\n",
            " 0.22008766 0.22822793 0.22860363 0.2272511  0.22304321 0.22567314\n",
            " 0.22038823 0.22001252 0.21730745 0.21592987 0.21618034 0.21725736\n",
            " 0.21462743 0.19737007 0.19388854 0.18802755 0.18619912 0.19716969\n",
            " 0.19611772 0.19874765 0.19724483 0.19807138 0.19233563 0.18995617\n",
            " 0.20485911 0.21219787 0.21803381 0.22126487 0.21956168 0.21873513\n",
            " 0.21435191 0.21262367 0.20338134 0.19426425 0.2004258  0.19789606\n",
            " 0.20247965 0.20653726 0.20681277 0.20408265 0.20541014 0.20115216\n",
            " 0.19586725 0.19363807 0.19291171 0.18902943 0.18715091 0.18905448\n",
            " 0.1941891  0.18955542 0.18614903 0.18983093 0.18680025 0.1851221\n",
            " 0.18239198 0.17097057 0.15849718 0.15599249 0.15569192 0.16002505\n",
            " 0.16508453 0.16628679 0.16102693 0.16571071 0.16475892 0.16751409\n",
            " 0.17342517 0.17991234 0.16162805 0.16390733 0.16032561 0.15747026\n",
            " 0.16628601 0.16628601 0.16539957 0.16517749 0.16505642 0.16499557\n",
            " 0.16496533 0.16494776 0.16493307 0.16491699]\n",
            "8 day output [[0.16489829]]\n",
            "9 day input [0.20756418 0.20751409 0.21192235 0.20989355 0.2115717  0.2082154\n",
            " 0.20776456 0.20929242 0.20671259 0.20816531 0.21139637 0.20686287\n",
            " 0.21685661 0.21410144 0.2189856  0.22259236 0.21625548 0.22008766\n",
            " 0.22822793 0.22860363 0.2272511  0.22304321 0.22567314 0.22038823\n",
            " 0.22001252 0.21730745 0.21592987 0.21618034 0.21725736 0.21462743\n",
            " 0.19737007 0.19388854 0.18802755 0.18619912 0.19716969 0.19611772\n",
            " 0.19874765 0.19724483 0.19807138 0.19233563 0.18995617 0.20485911\n",
            " 0.21219787 0.21803381 0.22126487 0.21956168 0.21873513 0.21435191\n",
            " 0.21262367 0.20338134 0.19426425 0.2004258  0.19789606 0.20247965\n",
            " 0.20653726 0.20681277 0.20408265 0.20541014 0.20115216 0.19586725\n",
            " 0.19363807 0.19291171 0.18902943 0.18715091 0.18905448 0.1941891\n",
            " 0.18955542 0.18614903 0.18983093 0.18680025 0.1851221  0.18239198\n",
            " 0.17097057 0.15849718 0.15599249 0.15569192 0.16002505 0.16508453\n",
            " 0.16628679 0.16102693 0.16571071 0.16475892 0.16751409 0.17342517\n",
            " 0.17991234 0.16162805 0.16390733 0.16032561 0.15747026 0.16628601\n",
            " 0.16628601 0.16539957 0.16517749 0.16505642 0.16499557 0.16496533\n",
            " 0.16494776 0.16493307 0.16491699 0.16489829]\n",
            "9 day output [[0.16487703]]\n",
            "10 day input [0.20751409 0.21192235 0.20989355 0.2115717  0.2082154  0.20776456\n",
            " 0.20929242 0.20671259 0.20816531 0.21139637 0.20686287 0.21685661\n",
            " 0.21410144 0.2189856  0.22259236 0.21625548 0.22008766 0.22822793\n",
            " 0.22860363 0.2272511  0.22304321 0.22567314 0.22038823 0.22001252\n",
            " 0.21730745 0.21592987 0.21618034 0.21725736 0.21462743 0.19737007\n",
            " 0.19388854 0.18802755 0.18619912 0.19716969 0.19611772 0.19874765\n",
            " 0.19724483 0.19807138 0.19233563 0.18995617 0.20485911 0.21219787\n",
            " 0.21803381 0.22126487 0.21956168 0.21873513 0.21435191 0.21262367\n",
            " 0.20338134 0.19426425 0.2004258  0.19789606 0.20247965 0.20653726\n",
            " 0.20681277 0.20408265 0.20541014 0.20115216 0.19586725 0.19363807\n",
            " 0.19291171 0.18902943 0.18715091 0.18905448 0.1941891  0.18955542\n",
            " 0.18614903 0.18983093 0.18680025 0.1851221  0.18239198 0.17097057\n",
            " 0.15849718 0.15599249 0.15569192 0.16002505 0.16508453 0.16628679\n",
            " 0.16102693 0.16571071 0.16475892 0.16751409 0.17342517 0.17991234\n",
            " 0.16162805 0.16390733 0.16032561 0.15747026 0.16628601 0.16628601\n",
            " 0.16539957 0.16517749 0.16505642 0.16499557 0.16496533 0.16494776\n",
            " 0.16493307 0.16491699 0.16489829 0.16487703]\n",
            "10 day output [[0.16485393]]\n",
            "11 day input [0.21192235 0.20989355 0.2115717  0.2082154  0.20776456 0.20929242\n",
            " 0.20671259 0.20816531 0.21139637 0.20686287 0.21685661 0.21410144\n",
            " 0.2189856  0.22259236 0.21625548 0.22008766 0.22822793 0.22860363\n",
            " 0.2272511  0.22304321 0.22567314 0.22038823 0.22001252 0.21730745\n",
            " 0.21592987 0.21618034 0.21725736 0.21462743 0.19737007 0.19388854\n",
            " 0.18802755 0.18619912 0.19716969 0.19611772 0.19874765 0.19724483\n",
            " 0.19807138 0.19233563 0.18995617 0.20485911 0.21219787 0.21803381\n",
            " 0.22126487 0.21956168 0.21873513 0.21435191 0.21262367 0.20338134\n",
            " 0.19426425 0.2004258  0.19789606 0.20247965 0.20653726 0.20681277\n",
            " 0.20408265 0.20541014 0.20115216 0.19586725 0.19363807 0.19291171\n",
            " 0.18902943 0.18715091 0.18905448 0.1941891  0.18955542 0.18614903\n",
            " 0.18983093 0.18680025 0.1851221  0.18239198 0.17097057 0.15849718\n",
            " 0.15599249 0.15569192 0.16002505 0.16508453 0.16628679 0.16102693\n",
            " 0.16571071 0.16475892 0.16751409 0.17342517 0.17991234 0.16162805\n",
            " 0.16390733 0.16032561 0.15747026 0.16628601 0.16628601 0.16539957\n",
            " 0.16517749 0.16505642 0.16499557 0.16496533 0.16494776 0.16493307\n",
            " 0.16491699 0.16489829 0.16487703 0.16485393]\n",
            "11 day output [[0.16482972]]\n",
            "12 day input [0.20989355 0.2115717  0.2082154  0.20776456 0.20929242 0.20671259\n",
            " 0.20816531 0.21139637 0.20686287 0.21685661 0.21410144 0.2189856\n",
            " 0.22259236 0.21625548 0.22008766 0.22822793 0.22860363 0.2272511\n",
            " 0.22304321 0.22567314 0.22038823 0.22001252 0.21730745 0.21592987\n",
            " 0.21618034 0.21725736 0.21462743 0.19737007 0.19388854 0.18802755\n",
            " 0.18619912 0.19716969 0.19611772 0.19874765 0.19724483 0.19807138\n",
            " 0.19233563 0.18995617 0.20485911 0.21219787 0.21803381 0.22126487\n",
            " 0.21956168 0.21873513 0.21435191 0.21262367 0.20338134 0.19426425\n",
            " 0.2004258  0.19789606 0.20247965 0.20653726 0.20681277 0.20408265\n",
            " 0.20541014 0.20115216 0.19586725 0.19363807 0.19291171 0.18902943\n",
            " 0.18715091 0.18905448 0.1941891  0.18955542 0.18614903 0.18983093\n",
            " 0.18680025 0.1851221  0.18239198 0.17097057 0.15849718 0.15599249\n",
            " 0.15569192 0.16002505 0.16508453 0.16628679 0.16102693 0.16571071\n",
            " 0.16475892 0.16751409 0.17342517 0.17991234 0.16162805 0.16390733\n",
            " 0.16032561 0.15747026 0.16628601 0.16628601 0.16539957 0.16517749\n",
            " 0.16505642 0.16499557 0.16496533 0.16494776 0.16493307 0.16491699\n",
            " 0.16489829 0.16487703 0.16485393 0.16482972]\n",
            "12 day output [[0.16480508]]\n",
            "13 day input [0.2115717  0.2082154  0.20776456 0.20929242 0.20671259 0.20816531\n",
            " 0.21139637 0.20686287 0.21685661 0.21410144 0.2189856  0.22259236\n",
            " 0.21625548 0.22008766 0.22822793 0.22860363 0.2272511  0.22304321\n",
            " 0.22567314 0.22038823 0.22001252 0.21730745 0.21592987 0.21618034\n",
            " 0.21725736 0.21462743 0.19737007 0.19388854 0.18802755 0.18619912\n",
            " 0.19716969 0.19611772 0.19874765 0.19724483 0.19807138 0.19233563\n",
            " 0.18995617 0.20485911 0.21219787 0.21803381 0.22126487 0.21956168\n",
            " 0.21873513 0.21435191 0.21262367 0.20338134 0.19426425 0.2004258\n",
            " 0.19789606 0.20247965 0.20653726 0.20681277 0.20408265 0.20541014\n",
            " 0.20115216 0.19586725 0.19363807 0.19291171 0.18902943 0.18715091\n",
            " 0.18905448 0.1941891  0.18955542 0.18614903 0.18983093 0.18680025\n",
            " 0.1851221  0.18239198 0.17097057 0.15849718 0.15599249 0.15569192\n",
            " 0.16002505 0.16508453 0.16628679 0.16102693 0.16571071 0.16475892\n",
            " 0.16751409 0.17342517 0.17991234 0.16162805 0.16390733 0.16032561\n",
            " 0.15747026 0.16628601 0.16628601 0.16539957 0.16517749 0.16505642\n",
            " 0.16499557 0.16496533 0.16494776 0.16493307 0.16491699 0.16489829\n",
            " 0.16487703 0.16485393 0.16482972 0.16480508]\n",
            "13 day output [[0.1647806]]\n",
            "14 day input [0.2082154  0.20776456 0.20929242 0.20671259 0.20816531 0.21139637\n",
            " 0.20686287 0.21685661 0.21410144 0.2189856  0.22259236 0.21625548\n",
            " 0.22008766 0.22822793 0.22860363 0.2272511  0.22304321 0.22567314\n",
            " 0.22038823 0.22001252 0.21730745 0.21592987 0.21618034 0.21725736\n",
            " 0.21462743 0.19737007 0.19388854 0.18802755 0.18619912 0.19716969\n",
            " 0.19611772 0.19874765 0.19724483 0.19807138 0.19233563 0.18995617\n",
            " 0.20485911 0.21219787 0.21803381 0.22126487 0.21956168 0.21873513\n",
            " 0.21435191 0.21262367 0.20338134 0.19426425 0.2004258  0.19789606\n",
            " 0.20247965 0.20653726 0.20681277 0.20408265 0.20541014 0.20115216\n",
            " 0.19586725 0.19363807 0.19291171 0.18902943 0.18715091 0.18905448\n",
            " 0.1941891  0.18955542 0.18614903 0.18983093 0.18680025 0.1851221\n",
            " 0.18239198 0.17097057 0.15849718 0.15599249 0.15569192 0.16002505\n",
            " 0.16508453 0.16628679 0.16102693 0.16571071 0.16475892 0.16751409\n",
            " 0.17342517 0.17991234 0.16162805 0.16390733 0.16032561 0.15747026\n",
            " 0.16628601 0.16628601 0.16539957 0.16517749 0.16505642 0.16499557\n",
            " 0.16496533 0.16494776 0.16493307 0.16491699 0.16489829 0.16487703\n",
            " 0.16485393 0.16482972 0.16480508 0.1647806 ]\n",
            "14 day output [[0.16475661]]\n",
            "15 day input [0.20776456 0.20929242 0.20671259 0.20816531 0.21139637 0.20686287\n",
            " 0.21685661 0.21410144 0.2189856  0.22259236 0.21625548 0.22008766\n",
            " 0.22822793 0.22860363 0.2272511  0.22304321 0.22567314 0.22038823\n",
            " 0.22001252 0.21730745 0.21592987 0.21618034 0.21725736 0.21462743\n",
            " 0.19737007 0.19388854 0.18802755 0.18619912 0.19716969 0.19611772\n",
            " 0.19874765 0.19724483 0.19807138 0.19233563 0.18995617 0.20485911\n",
            " 0.21219787 0.21803381 0.22126487 0.21956168 0.21873513 0.21435191\n",
            " 0.21262367 0.20338134 0.19426425 0.2004258  0.19789606 0.20247965\n",
            " 0.20653726 0.20681277 0.20408265 0.20541014 0.20115216 0.19586725\n",
            " 0.19363807 0.19291171 0.18902943 0.18715091 0.18905448 0.1941891\n",
            " 0.18955542 0.18614903 0.18983093 0.18680025 0.1851221  0.18239198\n",
            " 0.17097057 0.15849718 0.15599249 0.15569192 0.16002505 0.16508453\n",
            " 0.16628679 0.16102693 0.16571071 0.16475892 0.16751409 0.17342517\n",
            " 0.17991234 0.16162805 0.16390733 0.16032561 0.15747026 0.16628601\n",
            " 0.16628601 0.16539957 0.16517749 0.16505642 0.16499557 0.16496533\n",
            " 0.16494776 0.16493307 0.16491699 0.16489829 0.16487703 0.16485393\n",
            " 0.16482972 0.16480508 0.1647806  0.16475661]\n",
            "15 day output [[0.16473329]]\n",
            "16 day input [0.20929242 0.20671259 0.20816531 0.21139637 0.20686287 0.21685661\n",
            " 0.21410144 0.2189856  0.22259236 0.21625548 0.22008766 0.22822793\n",
            " 0.22860363 0.2272511  0.22304321 0.22567314 0.22038823 0.22001252\n",
            " 0.21730745 0.21592987 0.21618034 0.21725736 0.21462743 0.19737007\n",
            " 0.19388854 0.18802755 0.18619912 0.19716969 0.19611772 0.19874765\n",
            " 0.19724483 0.19807138 0.19233563 0.18995617 0.20485911 0.21219787\n",
            " 0.21803381 0.22126487 0.21956168 0.21873513 0.21435191 0.21262367\n",
            " 0.20338134 0.19426425 0.2004258  0.19789606 0.20247965 0.20653726\n",
            " 0.20681277 0.20408265 0.20541014 0.20115216 0.19586725 0.19363807\n",
            " 0.19291171 0.18902943 0.18715091 0.18905448 0.1941891  0.18955542\n",
            " 0.18614903 0.18983093 0.18680025 0.1851221  0.18239198 0.17097057\n",
            " 0.15849718 0.15599249 0.15569192 0.16002505 0.16508453 0.16628679\n",
            " 0.16102693 0.16571071 0.16475892 0.16751409 0.17342517 0.17991234\n",
            " 0.16162805 0.16390733 0.16032561 0.15747026 0.16628601 0.16628601\n",
            " 0.16539957 0.16517749 0.16505642 0.16499557 0.16496533 0.16494776\n",
            " 0.16493307 0.16491699 0.16489829 0.16487703 0.16485393 0.16482972\n",
            " 0.16480508 0.1647806  0.16475661 0.16473329]\n",
            "16 day output [[0.1647109]]\n",
            "17 day input [0.20671259 0.20816531 0.21139637 0.20686287 0.21685661 0.21410144\n",
            " 0.2189856  0.22259236 0.21625548 0.22008766 0.22822793 0.22860363\n",
            " 0.2272511  0.22304321 0.22567314 0.22038823 0.22001252 0.21730745\n",
            " 0.21592987 0.21618034 0.21725736 0.21462743 0.19737007 0.19388854\n",
            " 0.18802755 0.18619912 0.19716969 0.19611772 0.19874765 0.19724483\n",
            " 0.19807138 0.19233563 0.18995617 0.20485911 0.21219787 0.21803381\n",
            " 0.22126487 0.21956168 0.21873513 0.21435191 0.21262367 0.20338134\n",
            " 0.19426425 0.2004258  0.19789606 0.20247965 0.20653726 0.20681277\n",
            " 0.20408265 0.20541014 0.20115216 0.19586725 0.19363807 0.19291171\n",
            " 0.18902943 0.18715091 0.18905448 0.1941891  0.18955542 0.18614903\n",
            " 0.18983093 0.18680025 0.1851221  0.18239198 0.17097057 0.15849718\n",
            " 0.15599249 0.15569192 0.16002505 0.16508453 0.16628679 0.16102693\n",
            " 0.16571071 0.16475892 0.16751409 0.17342517 0.17991234 0.16162805\n",
            " 0.16390733 0.16032561 0.15747026 0.16628601 0.16628601 0.16539957\n",
            " 0.16517749 0.16505642 0.16499557 0.16496533 0.16494776 0.16493307\n",
            " 0.16491699 0.16489829 0.16487703 0.16485393 0.16482972 0.16480508\n",
            " 0.1647806  0.16475661 0.16473329 0.16471089]\n",
            "17 day output [[0.16468942]]\n",
            "18 day input [0.20816531 0.21139637 0.20686287 0.21685661 0.21410144 0.2189856\n",
            " 0.22259236 0.21625548 0.22008766 0.22822793 0.22860363 0.2272511\n",
            " 0.22304321 0.22567314 0.22038823 0.22001252 0.21730745 0.21592987\n",
            " 0.21618034 0.21725736 0.21462743 0.19737007 0.19388854 0.18802755\n",
            " 0.18619912 0.19716969 0.19611772 0.19874765 0.19724483 0.19807138\n",
            " 0.19233563 0.18995617 0.20485911 0.21219787 0.21803381 0.22126487\n",
            " 0.21956168 0.21873513 0.21435191 0.21262367 0.20338134 0.19426425\n",
            " 0.2004258  0.19789606 0.20247965 0.20653726 0.20681277 0.20408265\n",
            " 0.20541014 0.20115216 0.19586725 0.19363807 0.19291171 0.18902943\n",
            " 0.18715091 0.18905448 0.1941891  0.18955542 0.18614903 0.18983093\n",
            " 0.18680025 0.1851221  0.18239198 0.17097057 0.15849718 0.15599249\n",
            " 0.15569192 0.16002505 0.16508453 0.16628679 0.16102693 0.16571071\n",
            " 0.16475892 0.16751409 0.17342517 0.17991234 0.16162805 0.16390733\n",
            " 0.16032561 0.15747026 0.16628601 0.16628601 0.16539957 0.16517749\n",
            " 0.16505642 0.16499557 0.16496533 0.16494776 0.16493307 0.16491699\n",
            " 0.16489829 0.16487703 0.16485393 0.16482972 0.16480508 0.1647806\n",
            " 0.16475661 0.16473329 0.16471089 0.16468942]\n",
            "18 day output [[0.16466881]]\n",
            "19 day input [0.21139637 0.20686287 0.21685661 0.21410144 0.2189856  0.22259236\n",
            " 0.21625548 0.22008766 0.22822793 0.22860363 0.2272511  0.22304321\n",
            " 0.22567314 0.22038823 0.22001252 0.21730745 0.21592987 0.21618034\n",
            " 0.21725736 0.21462743 0.19737007 0.19388854 0.18802755 0.18619912\n",
            " 0.19716969 0.19611772 0.19874765 0.19724483 0.19807138 0.19233563\n",
            " 0.18995617 0.20485911 0.21219787 0.21803381 0.22126487 0.21956168\n",
            " 0.21873513 0.21435191 0.21262367 0.20338134 0.19426425 0.2004258\n",
            " 0.19789606 0.20247965 0.20653726 0.20681277 0.20408265 0.20541014\n",
            " 0.20115216 0.19586725 0.19363807 0.19291171 0.18902943 0.18715091\n",
            " 0.18905448 0.1941891  0.18955542 0.18614903 0.18983093 0.18680025\n",
            " 0.1851221  0.18239198 0.17097057 0.15849718 0.15599249 0.15569192\n",
            " 0.16002505 0.16508453 0.16628679 0.16102693 0.16571071 0.16475892\n",
            " 0.16751409 0.17342517 0.17991234 0.16162805 0.16390733 0.16032561\n",
            " 0.15747026 0.16628601 0.16628601 0.16539957 0.16517749 0.16505642\n",
            " 0.16499557 0.16496533 0.16494776 0.16493307 0.16491699 0.16489829\n",
            " 0.16487703 0.16485393 0.16482972 0.16480508 0.1647806  0.16475661\n",
            " 0.16473329 0.16471089 0.16468942 0.16466881]\n",
            "19 day output [[0.16464907]]\n",
            "20 day input [0.20686287 0.21685661 0.21410144 0.2189856  0.22259236 0.21625548\n",
            " 0.22008766 0.22822793 0.22860363 0.2272511  0.22304321 0.22567314\n",
            " 0.22038823 0.22001252 0.21730745 0.21592987 0.21618034 0.21725736\n",
            " 0.21462743 0.19737007 0.19388854 0.18802755 0.18619912 0.19716969\n",
            " 0.19611772 0.19874765 0.19724483 0.19807138 0.19233563 0.18995617\n",
            " 0.20485911 0.21219787 0.21803381 0.22126487 0.21956168 0.21873513\n",
            " 0.21435191 0.21262367 0.20338134 0.19426425 0.2004258  0.19789606\n",
            " 0.20247965 0.20653726 0.20681277 0.20408265 0.20541014 0.20115216\n",
            " 0.19586725 0.19363807 0.19291171 0.18902943 0.18715091 0.18905448\n",
            " 0.1941891  0.18955542 0.18614903 0.18983093 0.18680025 0.1851221\n",
            " 0.18239198 0.17097057 0.15849718 0.15599249 0.15569192 0.16002505\n",
            " 0.16508453 0.16628679 0.16102693 0.16571071 0.16475892 0.16751409\n",
            " 0.17342517 0.17991234 0.16162805 0.16390733 0.16032561 0.15747026\n",
            " 0.16628601 0.16628601 0.16539957 0.16517749 0.16505642 0.16499557\n",
            " 0.16496533 0.16494776 0.16493307 0.16491699 0.16489829 0.16487703\n",
            " 0.16485393 0.16482972 0.16480508 0.1647806  0.16475661 0.16473329\n",
            " 0.16471089 0.16468942 0.16466881 0.16464907]\n",
            "20 day output [[0.16463017]]\n",
            "21 day input [0.21685661 0.21410144 0.2189856  0.22259236 0.21625548 0.22008766\n",
            " 0.22822793 0.22860363 0.2272511  0.22304321 0.22567314 0.22038823\n",
            " 0.22001252 0.21730745 0.21592987 0.21618034 0.21725736 0.21462743\n",
            " 0.19737007 0.19388854 0.18802755 0.18619912 0.19716969 0.19611772\n",
            " 0.19874765 0.19724483 0.19807138 0.19233563 0.18995617 0.20485911\n",
            " 0.21219787 0.21803381 0.22126487 0.21956168 0.21873513 0.21435191\n",
            " 0.21262367 0.20338134 0.19426425 0.2004258  0.19789606 0.20247965\n",
            " 0.20653726 0.20681277 0.20408265 0.20541014 0.20115216 0.19586725\n",
            " 0.19363807 0.19291171 0.18902943 0.18715091 0.18905448 0.1941891\n",
            " 0.18955542 0.18614903 0.18983093 0.18680025 0.1851221  0.18239198\n",
            " 0.17097057 0.15849718 0.15599249 0.15569192 0.16002505 0.16508453\n",
            " 0.16628679 0.16102693 0.16571071 0.16475892 0.16751409 0.17342517\n",
            " 0.17991234 0.16162805 0.16390733 0.16032561 0.15747026 0.16628601\n",
            " 0.16628601 0.16539957 0.16517749 0.16505642 0.16499557 0.16496533\n",
            " 0.16494776 0.16493307 0.16491699 0.16489829 0.16487703 0.16485393\n",
            " 0.16482972 0.16480508 0.1647806  0.16475661 0.16473329 0.16471089\n",
            " 0.16468942 0.16466881 0.16464907 0.16463017]\n",
            "21 day output [[0.16461197]]\n",
            "22 day input [0.21410144 0.2189856  0.22259236 0.21625548 0.22008766 0.22822793\n",
            " 0.22860363 0.2272511  0.22304321 0.22567314 0.22038823 0.22001252\n",
            " 0.21730745 0.21592987 0.21618034 0.21725736 0.21462743 0.19737007\n",
            " 0.19388854 0.18802755 0.18619912 0.19716969 0.19611772 0.19874765\n",
            " 0.19724483 0.19807138 0.19233563 0.18995617 0.20485911 0.21219787\n",
            " 0.21803381 0.22126487 0.21956168 0.21873513 0.21435191 0.21262367\n",
            " 0.20338134 0.19426425 0.2004258  0.19789606 0.20247965 0.20653726\n",
            " 0.20681277 0.20408265 0.20541014 0.20115216 0.19586725 0.19363807\n",
            " 0.19291171 0.18902943 0.18715091 0.18905448 0.1941891  0.18955542\n",
            " 0.18614903 0.18983093 0.18680025 0.1851221  0.18239198 0.17097057\n",
            " 0.15849718 0.15599249 0.15569192 0.16002505 0.16508453 0.16628679\n",
            " 0.16102693 0.16571071 0.16475892 0.16751409 0.17342517 0.17991234\n",
            " 0.16162805 0.16390733 0.16032561 0.15747026 0.16628601 0.16628601\n",
            " 0.16539957 0.16517749 0.16505642 0.16499557 0.16496533 0.16494776\n",
            " 0.16493307 0.16491699 0.16489829 0.16487703 0.16485393 0.16482972\n",
            " 0.16480508 0.1647806  0.16475661 0.16473329 0.16471089 0.16468942\n",
            " 0.16466881 0.16464907 0.16463017 0.16461197]\n",
            "22 day output [[0.1645944]]\n",
            "23 day input [0.2189856  0.22259236 0.21625548 0.22008766 0.22822793 0.22860363\n",
            " 0.2272511  0.22304321 0.22567314 0.22038823 0.22001252 0.21730745\n",
            " 0.21592987 0.21618034 0.21725736 0.21462743 0.19737007 0.19388854\n",
            " 0.18802755 0.18619912 0.19716969 0.19611772 0.19874765 0.19724483\n",
            " 0.19807138 0.19233563 0.18995617 0.20485911 0.21219787 0.21803381\n",
            " 0.22126487 0.21956168 0.21873513 0.21435191 0.21262367 0.20338134\n",
            " 0.19426425 0.2004258  0.19789606 0.20247965 0.20653726 0.20681277\n",
            " 0.20408265 0.20541014 0.20115216 0.19586725 0.19363807 0.19291171\n",
            " 0.18902943 0.18715091 0.18905448 0.1941891  0.18955542 0.18614903\n",
            " 0.18983093 0.18680025 0.1851221  0.18239198 0.17097057 0.15849718\n",
            " 0.15599249 0.15569192 0.16002505 0.16508453 0.16628679 0.16102693\n",
            " 0.16571071 0.16475892 0.16751409 0.17342517 0.17991234 0.16162805\n",
            " 0.16390733 0.16032561 0.15747026 0.16628601 0.16628601 0.16539957\n",
            " 0.16517749 0.16505642 0.16499557 0.16496533 0.16494776 0.16493307\n",
            " 0.16491699 0.16489829 0.16487703 0.16485393 0.16482972 0.16480508\n",
            " 0.1647806  0.16475661 0.16473329 0.16471089 0.16468942 0.16466881\n",
            " 0.16464907 0.16463017 0.16461197 0.1645944 ]\n",
            "23 day output [[0.1645773]]\n",
            "24 day input [0.22259236 0.21625548 0.22008766 0.22822793 0.22860363 0.2272511\n",
            " 0.22304321 0.22567314 0.22038823 0.22001252 0.21730745 0.21592987\n",
            " 0.21618034 0.21725736 0.21462743 0.19737007 0.19388854 0.18802755\n",
            " 0.18619912 0.19716969 0.19611772 0.19874765 0.19724483 0.19807138\n",
            " 0.19233563 0.18995617 0.20485911 0.21219787 0.21803381 0.22126487\n",
            " 0.21956168 0.21873513 0.21435191 0.21262367 0.20338134 0.19426425\n",
            " 0.2004258  0.19789606 0.20247965 0.20653726 0.20681277 0.20408265\n",
            " 0.20541014 0.20115216 0.19586725 0.19363807 0.19291171 0.18902943\n",
            " 0.18715091 0.18905448 0.1941891  0.18955542 0.18614903 0.18983093\n",
            " 0.18680025 0.1851221  0.18239198 0.17097057 0.15849718 0.15599249\n",
            " 0.15569192 0.16002505 0.16508453 0.16628679 0.16102693 0.16571071\n",
            " 0.16475892 0.16751409 0.17342517 0.17991234 0.16162805 0.16390733\n",
            " 0.16032561 0.15747026 0.16628601 0.16628601 0.16539957 0.16517749\n",
            " 0.16505642 0.16499557 0.16496533 0.16494776 0.16493307 0.16491699\n",
            " 0.16489829 0.16487703 0.16485393 0.16482972 0.16480508 0.1647806\n",
            " 0.16475661 0.16473329 0.16471089 0.16468942 0.16466881 0.16464907\n",
            " 0.16463017 0.16461197 0.1645944  0.16457731]\n",
            "24 day output [[0.16456063]]\n",
            "25 day input [0.21625548 0.22008766 0.22822793 0.22860363 0.2272511  0.22304321\n",
            " 0.22567314 0.22038823 0.22001252 0.21730745 0.21592987 0.21618034\n",
            " 0.21725736 0.21462743 0.19737007 0.19388854 0.18802755 0.18619912\n",
            " 0.19716969 0.19611772 0.19874765 0.19724483 0.19807138 0.19233563\n",
            " 0.18995617 0.20485911 0.21219787 0.21803381 0.22126487 0.21956168\n",
            " 0.21873513 0.21435191 0.21262367 0.20338134 0.19426425 0.2004258\n",
            " 0.19789606 0.20247965 0.20653726 0.20681277 0.20408265 0.20541014\n",
            " 0.20115216 0.19586725 0.19363807 0.19291171 0.18902943 0.18715091\n",
            " 0.18905448 0.1941891  0.18955542 0.18614903 0.18983093 0.18680025\n",
            " 0.1851221  0.18239198 0.17097057 0.15849718 0.15599249 0.15569192\n",
            " 0.16002505 0.16508453 0.16628679 0.16102693 0.16571071 0.16475892\n",
            " 0.16751409 0.17342517 0.17991234 0.16162805 0.16390733 0.16032561\n",
            " 0.15747026 0.16628601 0.16628601 0.16539957 0.16517749 0.16505642\n",
            " 0.16499557 0.16496533 0.16494776 0.16493307 0.16491699 0.16489829\n",
            " 0.16487703 0.16485393 0.16482972 0.16480508 0.1647806  0.16475661\n",
            " 0.16473329 0.16471089 0.16468942 0.16466881 0.16464907 0.16463017\n",
            " 0.16461197 0.1645944  0.16457731 0.16456063]\n",
            "25 day output [[0.1645443]]\n",
            "26 day input [0.22008766 0.22822793 0.22860363 0.2272511  0.22304321 0.22567314\n",
            " 0.22038823 0.22001252 0.21730745 0.21592987 0.21618034 0.21725736\n",
            " 0.21462743 0.19737007 0.19388854 0.18802755 0.18619912 0.19716969\n",
            " 0.19611772 0.19874765 0.19724483 0.19807138 0.19233563 0.18995617\n",
            " 0.20485911 0.21219787 0.21803381 0.22126487 0.21956168 0.21873513\n",
            " 0.21435191 0.21262367 0.20338134 0.19426425 0.2004258  0.19789606\n",
            " 0.20247965 0.20653726 0.20681277 0.20408265 0.20541014 0.20115216\n",
            " 0.19586725 0.19363807 0.19291171 0.18902943 0.18715091 0.18905448\n",
            " 0.1941891  0.18955542 0.18614903 0.18983093 0.18680025 0.1851221\n",
            " 0.18239198 0.17097057 0.15849718 0.15599249 0.15569192 0.16002505\n",
            " 0.16508453 0.16628679 0.16102693 0.16571071 0.16475892 0.16751409\n",
            " 0.17342517 0.17991234 0.16162805 0.16390733 0.16032561 0.15747026\n",
            " 0.16628601 0.16628601 0.16539957 0.16517749 0.16505642 0.16499557\n",
            " 0.16496533 0.16494776 0.16493307 0.16491699 0.16489829 0.16487703\n",
            " 0.16485393 0.16482972 0.16480508 0.1647806  0.16475661 0.16473329\n",
            " 0.16471089 0.16468942 0.16466881 0.16464907 0.16463017 0.16461197\n",
            " 0.1645944  0.16457731 0.16456063 0.1645443 ]\n",
            "26 day output [[0.1645282]]\n",
            "27 day input [0.22822793 0.22860363 0.2272511  0.22304321 0.22567314 0.22038823\n",
            " 0.22001252 0.21730745 0.21592987 0.21618034 0.21725736 0.21462743\n",
            " 0.19737007 0.19388854 0.18802755 0.18619912 0.19716969 0.19611772\n",
            " 0.19874765 0.19724483 0.19807138 0.19233563 0.18995617 0.20485911\n",
            " 0.21219787 0.21803381 0.22126487 0.21956168 0.21873513 0.21435191\n",
            " 0.21262367 0.20338134 0.19426425 0.2004258  0.19789606 0.20247965\n",
            " 0.20653726 0.20681277 0.20408265 0.20541014 0.20115216 0.19586725\n",
            " 0.19363807 0.19291171 0.18902943 0.18715091 0.18905448 0.1941891\n",
            " 0.18955542 0.18614903 0.18983093 0.18680025 0.1851221  0.18239198\n",
            " 0.17097057 0.15849718 0.15599249 0.15569192 0.16002505 0.16508453\n",
            " 0.16628679 0.16102693 0.16571071 0.16475892 0.16751409 0.17342517\n",
            " 0.17991234 0.16162805 0.16390733 0.16032561 0.15747026 0.16628601\n",
            " 0.16628601 0.16539957 0.16517749 0.16505642 0.16499557 0.16496533\n",
            " 0.16494776 0.16493307 0.16491699 0.16489829 0.16487703 0.16485393\n",
            " 0.16482972 0.16480508 0.1647806  0.16475661 0.16473329 0.16471089\n",
            " 0.16468942 0.16466881 0.16464907 0.16463017 0.16461197 0.1645944\n",
            " 0.16457731 0.16456063 0.1645443  0.16452821]\n",
            "27 day output [[0.16451225]]\n",
            "28 day input [0.22860363 0.2272511  0.22304321 0.22567314 0.22038823 0.22001252\n",
            " 0.21730745 0.21592987 0.21618034 0.21725736 0.21462743 0.19737007\n",
            " 0.19388854 0.18802755 0.18619912 0.19716969 0.19611772 0.19874765\n",
            " 0.19724483 0.19807138 0.19233563 0.18995617 0.20485911 0.21219787\n",
            " 0.21803381 0.22126487 0.21956168 0.21873513 0.21435191 0.21262367\n",
            " 0.20338134 0.19426425 0.2004258  0.19789606 0.20247965 0.20653726\n",
            " 0.20681277 0.20408265 0.20541014 0.20115216 0.19586725 0.19363807\n",
            " 0.19291171 0.18902943 0.18715091 0.18905448 0.1941891  0.18955542\n",
            " 0.18614903 0.18983093 0.18680025 0.1851221  0.18239198 0.17097057\n",
            " 0.15849718 0.15599249 0.15569192 0.16002505 0.16508453 0.16628679\n",
            " 0.16102693 0.16571071 0.16475892 0.16751409 0.17342517 0.17991234\n",
            " 0.16162805 0.16390733 0.16032561 0.15747026 0.16628601 0.16628601\n",
            " 0.16539957 0.16517749 0.16505642 0.16499557 0.16496533 0.16494776\n",
            " 0.16493307 0.16491699 0.16489829 0.16487703 0.16485393 0.16482972\n",
            " 0.16480508 0.1647806  0.16475661 0.16473329 0.16471089 0.16468942\n",
            " 0.16466881 0.16464907 0.16463017 0.16461197 0.1645944  0.16457731\n",
            " 0.16456063 0.1645443  0.16452821 0.16451225]\n",
            "28 day output [[0.1644964]]\n",
            "29 day input [0.2272511  0.22304321 0.22567314 0.22038823 0.22001252 0.21730745\n",
            " 0.21592987 0.21618034 0.21725736 0.21462743 0.19737007 0.19388854\n",
            " 0.18802755 0.18619912 0.19716969 0.19611772 0.19874765 0.19724483\n",
            " 0.19807138 0.19233563 0.18995617 0.20485911 0.21219787 0.21803381\n",
            " 0.22126487 0.21956168 0.21873513 0.21435191 0.21262367 0.20338134\n",
            " 0.19426425 0.2004258  0.19789606 0.20247965 0.20653726 0.20681277\n",
            " 0.20408265 0.20541014 0.20115216 0.19586725 0.19363807 0.19291171\n",
            " 0.18902943 0.18715091 0.18905448 0.1941891  0.18955542 0.18614903\n",
            " 0.18983093 0.18680025 0.1851221  0.18239198 0.17097057 0.15849718\n",
            " 0.15599249 0.15569192 0.16002505 0.16508453 0.16628679 0.16102693\n",
            " 0.16571071 0.16475892 0.16751409 0.17342517 0.17991234 0.16162805\n",
            " 0.16390733 0.16032561 0.15747026 0.16628601 0.16628601 0.16539957\n",
            " 0.16517749 0.16505642 0.16499557 0.16496533 0.16494776 0.16493307\n",
            " 0.16491699 0.16489829 0.16487703 0.16485393 0.16482972 0.16480508\n",
            " 0.1647806  0.16475661 0.16473329 0.16471089 0.16468942 0.16466881\n",
            " 0.16464907 0.16463017 0.16461197 0.1645944  0.16457731 0.16456063\n",
            " 0.1645443  0.16452821 0.16451225 0.16449641]\n",
            "29 day output [[0.16448061]]\n",
            "[[0.16539956629276276], [0.16517749428749084], [0.16505642235279083], [0.16499556601047516], [0.16496533155441284], [0.1649477630853653], [0.16493307054042816], [0.1649169921875], [0.16489829123020172], [0.1648770272731781], [0.16485393047332764], [0.16482971608638763], [0.1648050844669342], [0.1647806018590927], [0.16475661098957062], [0.16473329067230225], [0.1647108942270279], [0.16468942165374756], [0.16466881334781647], [0.16464906930923462], [0.16463017463684082], [0.16461196541786194], [0.1645943969488144], [0.16457730531692505], [0.16456063091754913], [0.16454429924488068], [0.16452820599079132], [0.1645122468471527], [0.16449640691280365], [0.16448061168193817]]\n"
          ]
        }
      ]
    },
    {
      "cell_type": "code",
      "source": [
        "day_new=np.arange(1,101)\n",
        "day_pred=np.arange(101,131)"
      ],
      "metadata": {
        "id": "XNwbkcrQnmlZ"
      },
      "execution_count": 79,
      "outputs": []
    },
    {
      "cell_type": "code",
      "source": [
        "import matplotlib.pyplot as plt"
      ],
      "metadata": {
        "id": "pXPc3IdKn25v"
      },
      "execution_count": 80,
      "outputs": []
    },
    {
      "cell_type": "code",
      "source": [
        "len(df1)"
      ],
      "metadata": {
        "colab": {
          "base_uri": "https://localhost:8080/"
        },
        "id": "vd4nJn4en5zv",
        "outputId": "6b24e326-0550-4d9a-ee13-15d199f0c8f6"
      },
      "execution_count": 81,
      "outputs": [
        {
          "output_type": "execute_result",
          "data": {
            "text/plain": [
              "1257"
            ]
          },
          "metadata": {},
          "execution_count": 81
        }
      ]
    },
    {
      "cell_type": "code",
      "source": [
        "plt.plot(day_new,scaler.inverse_transform(df1[1157:]))\n",
        "plt.plot(day_pred,scaler.inverse_transform(lst_output))"
      ],
      "metadata": {
        "colab": {
          "base_uri": "https://localhost:8080/",
          "height": 447
        },
        "id": "1a9o0DV3n_Ih",
        "outputId": "ec693fbf-e160-48f4-dc23-d567df1f1a5c"
      },
      "execution_count": 85,
      "outputs": [
        {
          "output_type": "execute_result",
          "data": {
            "text/plain": [
              "[<matplotlib.lines.Line2D at 0x7cc33797dc90>]"
            ]
          },
          "metadata": {},
          "execution_count": 85
        },
        {
          "output_type": "display_data",
          "data": {
            "text/plain": [
              "<Figure size 640x480 with 1 Axes>"
            ],
            "image/png": "[encoded data removed]"
          },
          "metadata": {}
        }
      ]
    },
    {
      "cell_type": "code",
      "source": [
        "df3=df1.tolist()\n",
        "df3.extend(lst_output)\n",
        "plt.plot(df3[1200:])"
      ],
      "metadata": {
        "colab": {
          "base_uri": "https://localhost:8080/",
          "height": 447
        },
        "id": "Fv-18vz9oKSN",
        "outputId": "e89b6d3e-1ffb-41eb-e9d9-6aa1d8a8a3a9"
      },
      "execution_count": 86,
      "outputs": [
        {
          "output_type": "execute_result",
          "data": {
            "text/plain": [
              "[<matplotlib.lines.Line2D at 0x7cc337815600>]"
            ]
          },
          "metadata": {},
          "execution_count": 86
        },
        {
          "output_type": "display_data",
          "data": {
            "text/plain": [
              "<Figure size 640x480 with 1 Axes>"
            ],
            "image/png": "[encoded data removed]"
          },
          "metadata": {}
        }
      ]
    },
    {
      "cell_type": "code",
      "source": [
        "df3=scaler.inverse_transform(df3).tolist()"
      ],
      "metadata": {
        "id": "pbBDfsB7oPp_"
      },
      "execution_count": 89,
      "outputs": []
    },
    {
      "cell_type": "code",
      "source": [
        "plt.plot(df3)"
      ],
      "metadata": {
        "colab": {
          "base_uri": "https://localhost:8080/",
          "height": 447
        },
        "id": "nLnl211koSum",
        "outputId": "10d69eb4-4de9-4c15-9326-dcc1d5e08e77"
      },
      "execution_count": 90,
      "outputs": [
        {
          "output_type": "execute_result",
          "data": {
            "text/plain": [
              "[<matplotlib.lines.Line2D at 0x7cc332810f40>]"
            ]
          },
          "metadata": {},
          "execution_count": 90
        },
        {
          "output_type": "display_data",
          "data": {
            "text/plain": [
              "<Figure size 640x480 with 1 Axes>"
            ],
            "image/png": "[encoded data removed]"
          },
          "metadata": {}
        }
      ]
    },
    {
      "cell_type": "code",
      "source": [],
      "metadata": {
        "id": "L9l-rb4YoT6r"
      },
      "execution_count": null,
      "outputs": []
    }
  ]
}